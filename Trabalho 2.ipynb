{
  "nbformat": 4,
  "nbformat_minor": 0,
  "metadata": {
    "colab": {
      "provenance": [],
      "authorship_tag": "ABX9TyMB1ipqbRZtPzIarG4YdOH4",
      "include_colab_link": true
    },
    "kernelspec": {
      "name": "python3",
      "display_name": "Python 3"
    },
    "language_info": {
      "name": "python"
    }
  },
  "cells": [
    {
      "cell_type": "markdown",
      "metadata": {
        "id": "view-in-github",
        "colab_type": "text"
      },
      "source": [
        "<a href=\"https://colab.research.google.com/github/FilipeMSouza/ml-2023-1-trabalho-2/blob/master/Trabalho%202.ipynb\" target=\"_parent\"><img src=\"https://colab.research.google.com/assets/colab-badge.svg\" alt=\"Open In Colab\"/></a>"
      ]
    },
    {
      "cell_type": "code",
      "execution_count": null,
      "metadata": {
        "id": "cOcXoNS5qbnO"
      },
      "outputs": [],
      "source": [
        "import pandas as pd\n",
        "from sklearn.preprocessing import LabelEncoder\n",
        "from sklearn.metrics import accuracy_score, confusion_matrix, classification_report\n",
        "# Carregando o dataset\n",
        "df = pd.read_excel('dataset.xlsx')"
      ]
    },
    {
      "cell_type": "code",
      "source": [
        "df = df.drop(columns=['Patient ID', 'Patient addmited to regular ward (1=yes, 0=no)', 'Patient addmited to semi-intensive unit (1=yes, 0=no)', 'Patient addmited to intensive care unit (1=yes, 0=no)'])\n"
      ],
      "metadata": {
        "id": "IA64mNdssN6k"
      },
      "execution_count": null,
      "outputs": []
    },
    {
      "cell_type": "code",
      "source": [
        "for col in df.columns:\n",
        "    if df[col].dtype == 'object':\n",
        "        lbl = LabelEncoder()\n",
        "        lbl.fit(list(df[col].values))\n",
        "        df[col] = lbl.transform(df[col].values)"
      ],
      "metadata": {
        "id": "W9GoWv5lsPTr"
      },
      "execution_count": null,
      "outputs": []
    },
    {
      "cell_type": "code",
      "source": [
        "df = df[df.columns[df.isna().sum()/df.shape[0] < 0.99]]"
      ],
      "metadata": {
        "id": "9rtU53b3sRAD"
      },
      "execution_count": null,
      "outputs": []
    },
    {
      "cell_type": "code",
      "source": [
        "df = df.fillna(df.median())"
      ],
      "metadata": {
        "id": "t_xnG6whs430"
      },
      "execution_count": null,
      "outputs": []
    },
    {
      "cell_type": "code",
      "source": [
        "from sklearn.model_selection import train_test_split\n",
        "from sklearn.tree import DecisionTreeClassifier\n",
        "from sklearn.metrics import classification_report, accuracy_score, confusion_matrix\n",
        "from sklearn import preprocessing"
      ],
      "metadata": {
        "id": "7qXvdLsNs6lU"
      },
      "execution_count": 6,
      "outputs": []
    },
    {
      "cell_type": "code",
      "source": [
        "df.to_excel('dataset_tratado.xlsx', index=False)"
      ],
      "metadata": {
        "id": "N_B1CqoKtMts"
      },
      "execution_count": 7,
      "outputs": []
    },
    {
      "cell_type": "markdown",
      "source": [
        "Decision Tree"
      ],
      "metadata": {
        "id": "hhsXbIVIu7Y6"
      }
    },
    {
      "cell_type": "code",
      "source": [
        "df_aux = pd.read_excel('dataset_tratado.xlsx')\n",
        "df_aux = df_aux.drop(columns=['SARS-Cov-2 exam result'])\n",
        "df_normalized = preprocessing.normalize(df_aux)\n",
        "\n",
        "X = df_normalized\n",
        "Y = df['SARS-Cov-2 exam result'] # target"
      ],
      "metadata": {
        "id": "hwIHF19MtOUT"
      },
      "execution_count": 8,
      "outputs": []
    },
    {
      "cell_type": "code",
      "source": [
        "X_train, X_test, y_train, y_test = train_test_split(X, Y, test_size=0.3, random_state=42)"
      ],
      "metadata": {
        "id": "EkKkYiOftQED"
      },
      "execution_count": 9,
      "outputs": []
    },
    {
      "cell_type": "code",
      "source": [
        "model = DecisionTreeClassifier()\n",
        "model.fit(X_train, y_train)"
      ],
      "metadata": {
        "colab": {
          "base_uri": "https://localhost:8080/",
          "height": 75
        },
        "id": "jPIVja7jtRZT",
        "outputId": "3148d9f4-4bf5-4872-cd79-ae25e60a3693"
      },
      "execution_count": 10,
      "outputs": [
        {
          "output_type": "execute_result",
          "data": {
            "text/plain": [
              "DecisionTreeClassifier()"
            ],
            "text/html": [
              "<style>#sk-container-id-1 {color: black;background-color: white;}#sk-container-id-1 pre{padding: 0;}#sk-container-id-1 div.sk-toggleable {background-color: white;}#sk-container-id-1 label.sk-toggleable__label {cursor: pointer;display: block;width: 100%;margin-bottom: 0;padding: 0.3em;box-sizing: border-box;text-align: center;}#sk-container-id-1 label.sk-toggleable__label-arrow:before {content: \"▸\";float: left;margin-right: 0.25em;color: #696969;}#sk-container-id-1 label.sk-toggleable__label-arrow:hover:before {color: black;}#sk-container-id-1 div.sk-estimator:hover label.sk-toggleable__label-arrow:before {color: black;}#sk-container-id-1 div.sk-toggleable__content {max-height: 0;max-width: 0;overflow: hidden;text-align: left;background-color: #f0f8ff;}#sk-container-id-1 div.sk-toggleable__content pre {margin: 0.2em;color: black;border-radius: 0.25em;background-color: #f0f8ff;}#sk-container-id-1 input.sk-toggleable__control:checked~div.sk-toggleable__content {max-height: 200px;max-width: 100%;overflow: auto;}#sk-container-id-1 input.sk-toggleable__control:checked~label.sk-toggleable__label-arrow:before {content: \"▾\";}#sk-container-id-1 div.sk-estimator input.sk-toggleable__control:checked~label.sk-toggleable__label {background-color: #d4ebff;}#sk-container-id-1 div.sk-label input.sk-toggleable__control:checked~label.sk-toggleable__label {background-color: #d4ebff;}#sk-container-id-1 input.sk-hidden--visually {border: 0;clip: rect(1px 1px 1px 1px);clip: rect(1px, 1px, 1px, 1px);height: 1px;margin: -1px;overflow: hidden;padding: 0;position: absolute;width: 1px;}#sk-container-id-1 div.sk-estimator {font-family: monospace;background-color: #f0f8ff;border: 1px dotted black;border-radius: 0.25em;box-sizing: border-box;margin-bottom: 0.5em;}#sk-container-id-1 div.sk-estimator:hover {background-color: #d4ebff;}#sk-container-id-1 div.sk-parallel-item::after {content: \"\";width: 100%;border-bottom: 1px solid gray;flex-grow: 1;}#sk-container-id-1 div.sk-label:hover label.sk-toggleable__label {background-color: #d4ebff;}#sk-container-id-1 div.sk-serial::before {content: \"\";position: absolute;border-left: 1px solid gray;box-sizing: border-box;top: 0;bottom: 0;left: 50%;z-index: 0;}#sk-container-id-1 div.sk-serial {display: flex;flex-direction: column;align-items: center;background-color: white;padding-right: 0.2em;padding-left: 0.2em;position: relative;}#sk-container-id-1 div.sk-item {position: relative;z-index: 1;}#sk-container-id-1 div.sk-parallel {display: flex;align-items: stretch;justify-content: center;background-color: white;position: relative;}#sk-container-id-1 div.sk-item::before, #sk-container-id-1 div.sk-parallel-item::before {content: \"\";position: absolute;border-left: 1px solid gray;box-sizing: border-box;top: 0;bottom: 0;left: 50%;z-index: -1;}#sk-container-id-1 div.sk-parallel-item {display: flex;flex-direction: column;z-index: 1;position: relative;background-color: white;}#sk-container-id-1 div.sk-parallel-item:first-child::after {align-self: flex-end;width: 50%;}#sk-container-id-1 div.sk-parallel-item:last-child::after {align-self: flex-start;width: 50%;}#sk-container-id-1 div.sk-parallel-item:only-child::after {width: 0;}#sk-container-id-1 div.sk-dashed-wrapped {border: 1px dashed gray;margin: 0 0.4em 0.5em 0.4em;box-sizing: border-box;padding-bottom: 0.4em;background-color: white;}#sk-container-id-1 div.sk-label label {font-family: monospace;font-weight: bold;display: inline-block;line-height: 1.2em;}#sk-container-id-1 div.sk-label-container {text-align: center;}#sk-container-id-1 div.sk-container {/* jupyter's `normalize.less` sets `[hidden] { display: none; }` but bootstrap.min.css set `[hidden] { display: none !important; }` so we also need the `!important` here to be able to override the default hidden behavior on the sphinx rendered scikit-learn.org. See: https://github.com/scikit-learn/scikit-learn/issues/21755 */display: inline-block !important;position: relative;}#sk-container-id-1 div.sk-text-repr-fallback {display: none;}</style><div id=\"sk-container-id-1\" class=\"sk-top-container\"><div class=\"sk-text-repr-fallback\"><pre>DecisionTreeClassifier()</pre><b>In a Jupyter environment, please rerun this cell to show the HTML representation or trust the notebook. <br />On GitHub, the HTML representation is unable to render, please try loading this page with nbviewer.org.</b></div><div class=\"sk-container\" hidden><div class=\"sk-item\"><div class=\"sk-estimator sk-toggleable\"><input class=\"sk-toggleable__control sk-hidden--visually\" id=\"sk-estimator-id-1\" type=\"checkbox\" checked><label for=\"sk-estimator-id-1\" class=\"sk-toggleable__label sk-toggleable__label-arrow\">DecisionTreeClassifier</label><div class=\"sk-toggleable__content\"><pre>DecisionTreeClassifier()</pre></div></div></div></div></div>"
            ]
          },
          "metadata": {},
          "execution_count": 10
        }
      ]
    },
    {
      "cell_type": "code",
      "source": [
        "print('Cauculando a acurácia do modelo de árvore de decisão\\n\\n')\n",
        "\n",
        "prds = model.predict(X_test)\n",
        "tn, fp, fn, tp = confusion_matrix(y_test, prds).ravel()\n",
        "print(f'tn {tn}, fp {fp}, fn {fn}, tp {tp}', '\\n\\n',\n",
        "      'Accuracy:', (accuracy_score(y_test, prds)), '\\n\\n',\n",
        "      'Confusion Matrix \\n', (confusion_matrix(y_test, prds)), '\\n\\n',\n",
        "      'Classification Report:\\n', (classification_report(y_test, prds)))"
      ],
      "metadata": {
        "colab": {
          "base_uri": "https://localhost:8080/"
        },
        "id": "NID8dy88tS1E",
        "outputId": "c2d8207a-90f3-476b-becd-6575176863c8"
      },
      "execution_count": 11,
      "outputs": [
        {
          "output_type": "stream",
          "name": "stdout",
          "text": [
            "Cauculando a acurácia do modelo de árvore de decisão\n",
            "\n",
            "\n",
            "tn 1510, fp 26, fn 147, tp 11 \n",
            "\n",
            " Accuracy: 0.897874852420307 \n",
            "\n",
            " Confusion Matrix \n",
            " [[1510   26]\n",
            " [ 147   11]] \n",
            "\n",
            " Classification Report:\n",
            "               precision    recall  f1-score   support\n",
            "\n",
            "           0       0.91      0.98      0.95      1536\n",
            "           1       0.30      0.07      0.11       158\n",
            "\n",
            "    accuracy                           0.90      1694\n",
            "   macro avg       0.60      0.53      0.53      1694\n",
            "weighted avg       0.85      0.90      0.87      1694\n",
            "\n"
          ]
        }
      ]
    },
    {
      "cell_type": "markdown",
      "source": [
        "KNN\n"
      ],
      "metadata": {
        "id": "dBr2v-iLu1_r"
      }
    },
    {
      "cell_type": "code",
      "source": [
        "from sklearn.neighbors import KNeighborsClassifier"
      ],
      "metadata": {
        "id": "Lv6d3NveuaZM"
      },
      "execution_count": 12,
      "outputs": []
    },
    {
      "cell_type": "code",
      "source": [
        "X_train, X_test, y_train, y_test = train_test_split(X, Y, test_size=0.33, random_state=42)\n",
        "clf = KNeighborsClassifier(n_neighbors=5).fit(X, Y)"
      ],
      "metadata": {
        "id": "tk5Ji6CaugUE"
      },
      "execution_count": 13,
      "outputs": []
    },
    {
      "cell_type": "code",
      "source": [
        "y_pred = clf.predict(X_test)"
      ],
      "metadata": {
        "id": "Bb9fLCQuulD7"
      },
      "execution_count": 14,
      "outputs": []
    },
    {
      "cell_type": "code",
      "source": [
        "tn, fp, fn, tp = confusion_matrix(y_test, y_pred).ravel()\n",
        "print(f'tn {tn}, fp {fp}, fn {fn}, tp {tp}', '\\n\\n',\n",
        "    'Accuracy:', (accuracy_score(y_test, y_pred)), '\\n\\n',\n",
        "      'Confusion Matrix \\n', (confusion_matrix(y_test, y_pred)), '\\n\\n',\n",
        "      'Classification Report:\\n', (classification_report(y_test, y_pred)))"
      ],
      "metadata": {
        "colab": {
          "base_uri": "https://localhost:8080/"
        },
        "id": "gCEPdug9uhxz",
        "outputId": "6146dd3a-fa91-4e0a-beb7-00d44ca5efc3"
      },
      "execution_count": 16,
      "outputs": [
        {
          "output_type": "stream",
          "name": "stdout",
          "text": [
            "tn 1683, fp 2, fn 173, tp 5 \n",
            "\n",
            " Accuracy: 0.9060654857756307 \n",
            "\n",
            " Confusion Matrix \n",
            " [[1683    2]\n",
            " [ 173    5]] \n",
            "\n",
            " Classification Report:\n",
            "               precision    recall  f1-score   support\n",
            "\n",
            "           0       0.91      1.00      0.95      1685\n",
            "           1       0.71      0.03      0.05       178\n",
            "\n",
            "    accuracy                           0.91      1863\n",
            "   macro avg       0.81      0.51      0.50      1863\n",
            "weighted avg       0.89      0.91      0.86      1863\n",
            "\n"
          ]
        }
      ]
    },
    {
      "cell_type": "markdown",
      "source": [
        "Naive Bayes\n"
      ],
      "metadata": {
        "id": "p2pNSWcCu-is"
      }
    },
    {
      "cell_type": "code",
      "source": [
        "from sklearn.naive_bayes import GaussianNB"
      ],
      "metadata": {
        "id": "mOqwojl6vDf0"
      },
      "execution_count": 17,
      "outputs": []
    },
    {
      "cell_type": "code",
      "source": [
        "X_train, X_test, y_train, y_test = train_test_split(X, Y, test_size=0.33, random_state=42)"
      ],
      "metadata": {
        "id": "FC4S_UWgvcNs"
      },
      "execution_count": 18,
      "outputs": []
    },
    {
      "cell_type": "code",
      "source": [
        "model = GaussianNB()"
      ],
      "metadata": {
        "id": "WLVM-iSqvPsM"
      },
      "execution_count": 19,
      "outputs": []
    },
    {
      "cell_type": "code",
      "source": [
        "model.fit(X_train, y_train)\n",
        "y_pred = model.predict(X_test)"
      ],
      "metadata": {
        "id": "d5LXSO0svafc"
      },
      "execution_count": 20,
      "outputs": []
    },
    {
      "cell_type": "code",
      "source": [
        "accuracy = accuracy_score(y_test, y_pred)\n",
        "conf_matrix = confusion_matrix(y_test, y_pred)\n",
        "class_report = classification_report(y_test, y_pred, zero_division=0)\n",
        "tn, fp, fn, tp = confusion_matrix(y_test, y_pred).ravel()\n",
        "print(f'tn {tn}, fp {fp}, fn {fn}, tp {tp}',)\n",
        "print(\"Acurácia do modelo:\", accuracy)\n",
        "print(\"Matriz de confusão:\\n\", conf_matrix)\n",
        "print(\"Revogação das Classes\\n\", class_report)"
      ],
      "metadata": {
        "colab": {
          "base_uri": "https://localhost:8080/"
        },
        "id": "ep_wJpH5vsNL",
        "outputId": "032fedb1-a46e-4a39-a8e2-212732cb8a8f"
      },
      "execution_count": 21,
      "outputs": [
        {
          "output_type": "stream",
          "name": "stdout",
          "text": [
            "tn 395, fp 1290, fn 35, tp 143\n",
            "Acurácia do modelo: 0.28878153515834676\n",
            "Matriz de confusão:\n",
            " [[ 395 1290]\n",
            " [  35  143]]\n",
            "Revogação das Classes\n",
            "               precision    recall  f1-score   support\n",
            "\n",
            "           0       0.92      0.23      0.37      1685\n",
            "           1       0.10      0.80      0.18       178\n",
            "\n",
            "    accuracy                           0.29      1863\n",
            "   macro avg       0.51      0.52      0.28      1863\n",
            "weighted avg       0.84      0.29      0.35      1863\n",
            "\n"
          ]
        }
      ]
    },
    {
      "cell_type": "markdown",
      "source": [
        "Extra Kmeas Graph"
      ],
      "metadata": {
        "id": "0q8c272tw0yt"
      }
    },
    {
      "cell_type": "code",
      "source": [
        "import numpy as np\n",
        "from matplotlib import pyplot as plt\n",
        "from sklearn.cluster import KMeans"
      ],
      "metadata": {
        "id": "Pbxocrrfw4GU"
      },
      "execution_count": 22,
      "outputs": []
    },
    {
      "cell_type": "code",
      "source": [
        "model = KMeans(n_clusters=3,init = 'k-means++', n_init = 'auto')\n",
        "pred_y = model.fit_predict(df_normalized)"
      ],
      "metadata": {
        "id": "wBgElRUXw6tM"
      },
      "execution_count": 23,
      "outputs": []
    },
    {
      "cell_type": "code",
      "source": [
        "plt.scatter(df_normalized[:,1], df_normalized[:,0] , c = pred_y)\n",
        "plt.grid()\n",
        "plt.scatter(model.cluster_centers_[:,1],model.cluster_centers_[:,0], s = 70, c = 'red')\n",
        "plt.savefig('2-clusters.png')"
      ],
      "metadata": {
        "colab": {
          "base_uri": "https://localhost:8080/",
          "height": 430
        },
        "id": "l0E_dRQcw8w8",
        "outputId": "070cefe4-e2a8-49b4-c6ca-359ab9a3108f"
      },
      "execution_count": 24,
      "outputs": [
        {
          "output_type": "display_data",
          "data": {
            "text/plain": [
              "<Figure size 640x480 with 1 Axes>"
            ],
            "image/png": "[encoded data removed]"
          },
          "metadata": {}
        }
      ]
    }
  ]
}